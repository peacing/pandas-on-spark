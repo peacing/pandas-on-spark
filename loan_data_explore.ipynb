{
 "cells": [
  {
   "cell_type": "code",
   "execution_count": 32,
   "id": "2dcc72e9",
   "metadata": {},
   "outputs": [],
   "source": [
    "import pandas as pd\n",
    "import numpy as np\n",
    "\n",
    "import matplotlib.pyplot as plt\n",
    "%matplotlib inline\n",
    "\n",
    "import seaborn as sns"
   ]
  },
  {
   "cell_type": "markdown",
   "id": "850ab9a6",
   "metadata": {},
   "source": [
    "## Let's start by loading the data into a DataFrame and doing basic exploration"
   ]
  },
  {
   "cell_type": "code",
   "execution_count": 33,
   "id": "84647d67",
   "metadata": {},
   "outputs": [],
   "source": [
    "loans_filename = 'data/loans.csv'\n",
    "loans_df = pd.read_csv(loans_filename, header=None, names=['loan_amount', 'address', 'created_at', 'funded_at']\n",
    "                      ,infer_datetime_format=True, parse_dates=['created_at', 'funded_at'])"
   ]
  },
  {
   "cell_type": "code",
   "execution_count": 34,
   "id": "1f69500f",
   "metadata": {},
   "outputs": [
    {
     "data": {
      "text/html": [
       "<div>\n",
       "<style scoped>\n",
       "    .dataframe tbody tr th:only-of-type {\n",
       "        vertical-align: middle;\n",
       "    }\n",
       "\n",
       "    .dataframe tbody tr th {\n",
       "        vertical-align: top;\n",
       "    }\n",
       "\n",
       "    .dataframe thead th {\n",
       "        text-align: right;\n",
       "    }\n",
       "</style>\n",
       "<table border=\"1\" class=\"dataframe\">\n",
       "  <thead>\n",
       "    <tr style=\"text-align: right;\">\n",
       "      <th></th>\n",
       "      <th>loan_amount</th>\n",
       "      <th>address</th>\n",
       "      <th>created_at</th>\n",
       "      <th>funded_at</th>\n",
       "    </tr>\n",
       "  </thead>\n",
       "  <tbody>\n",
       "    <tr>\n",
       "      <th>0</th>\n",
       "      <td>568705.0</td>\n",
       "      <td>22226 Brookpine, Mission Viejo CA 92692</td>\n",
       "      <td>2016-12-20 07:16:04.778800+00:00</td>\n",
       "      <td>NaT</td>\n",
       "    </tr>\n",
       "    <tr>\n",
       "      <th>1</th>\n",
       "      <td>413165.0</td>\n",
       "      <td>124 Vignolia Court, Roseville CA 95747</td>\n",
       "      <td>2016-10-11 20:35:19.951835+00:00</td>\n",
       "      <td>2016-11-07 00:00:00+00:00</td>\n",
       "    </tr>\n",
       "    <tr>\n",
       "      <th>2</th>\n",
       "      <td>584083.0</td>\n",
       "      <td>13909 Via Del Jamul Dr, Jamul CA 91935</td>\n",
       "      <td>2017-08-08 03:23:04.349419+00:00</td>\n",
       "      <td>NaT</td>\n",
       "    </tr>\n",
       "    <tr>\n",
       "      <th>3</th>\n",
       "      <td>258680.0</td>\n",
       "      <td>13209 N Mayfair Ln, Spokane WA 99208</td>\n",
       "      <td>2017-05-25 19:06:01.525985+00:00</td>\n",
       "      <td>NaT</td>\n",
       "    </tr>\n",
       "    <tr>\n",
       "      <th>4</th>\n",
       "      <td>170180.0</td>\n",
       "      <td>205 Cottontail Ln, Elkin NC 28621</td>\n",
       "      <td>2017-03-02 19:40:13.319275+00:00</td>\n",
       "      <td>NaT</td>\n",
       "    </tr>\n",
       "  </tbody>\n",
       "</table>\n",
       "</div>"
      ],
      "text/plain": [
       "   loan_amount                                  address  \\\n",
       "0     568705.0  22226 Brookpine, Mission Viejo CA 92692   \n",
       "1     413165.0   124 Vignolia Court, Roseville CA 95747   \n",
       "2     584083.0   13909 Via Del Jamul Dr, Jamul CA 91935   \n",
       "3     258680.0     13209 N Mayfair Ln, Spokane WA 99208   \n",
       "4     170180.0        205 Cottontail Ln, Elkin NC 28621   \n",
       "\n",
       "                        created_at                 funded_at  \n",
       "0 2016-12-20 07:16:04.778800+00:00                       NaT  \n",
       "1 2016-10-11 20:35:19.951835+00:00 2016-11-07 00:00:00+00:00  \n",
       "2 2017-08-08 03:23:04.349419+00:00                       NaT  \n",
       "3 2017-05-25 19:06:01.525985+00:00                       NaT  \n",
       "4 2017-03-02 19:40:13.319275+00:00                       NaT  "
      ]
     },
     "execution_count": 34,
     "metadata": {},
     "output_type": "execute_result"
    }
   ],
   "source": [
    "loans_df.head()"
   ]
  },
  {
   "cell_type": "code",
   "execution_count": 35,
   "id": "1a43ad53",
   "metadata": {},
   "outputs": [
    {
     "data": {
      "text/plain": [
       "loan_amount                float64\n",
       "address                     object\n",
       "created_at     datetime64[ns, UTC]\n",
       "funded_at      datetime64[ns, UTC]\n",
       "dtype: object"
      ]
     },
     "execution_count": 35,
     "metadata": {},
     "output_type": "execute_result"
    }
   ],
   "source": [
    "loans_df.dtypes"
   ]
  },
  {
   "cell_type": "code",
   "execution_count": 36,
   "id": "2c9c8b53",
   "metadata": {},
   "outputs": [
    {
     "data": {
      "text/plain": [
       "(5143, 4)"
      ]
     },
     "execution_count": 36,
     "metadata": {},
     "output_type": "execute_result"
    }
   ],
   "source": [
    "loans_df.shape"
   ]
  },
  {
   "cell_type": "code",
   "execution_count": 37,
   "id": "fe499cde",
   "metadata": {},
   "outputs": [
    {
     "name": "stdout",
     "output_type": "stream",
     "text": [
      "<class 'pandas.core.frame.DataFrame'>\n",
      "RangeIndex: 5143 entries, 0 to 5142\n",
      "Data columns (total 4 columns):\n",
      " #   Column       Non-Null Count  Dtype              \n",
      "---  ------       --------------  -----              \n",
      " 0   loan_amount  5143 non-null   float64            \n",
      " 1   address      5143 non-null   object             \n",
      " 2   created_at   5143 non-null   datetime64[ns, UTC]\n",
      " 3   funded_at    1055 non-null   datetime64[ns, UTC]\n",
      "dtypes: datetime64[ns, UTC](2), float64(1), object(1)\n",
      "memory usage: 160.8+ KB\n"
     ]
    }
   ],
   "source": [
    "loans_df.info()"
   ]
  },
  {
   "cell_type": "markdown",
   "id": "093d81fd",
   "metadata": {},
   "source": [
    "## Now let's explore the individual fields (look for outliers, standardize, etc)"
   ]
  },
  {
   "cell_type": "markdown",
   "id": "908dc568",
   "metadata": {},
   "source": [
    "### loan_amount "
   ]
  },
  {
   "cell_type": "code",
   "execution_count": 38,
   "id": "1106680c",
   "metadata": {},
   "outputs": [
    {
     "data": {
      "text/plain": [
       "count        5143.000000\n",
       "mean       382389.442738\n",
       "std       1271107.564632\n",
       "min             9.000000\n",
       "25%        216656.500000\n",
       "50%        317937.000000\n",
       "75%        421659.000000\n",
       "max      57762492.000000\n",
       "Name: loan_amount, dtype: object"
      ]
     },
     "execution_count": 38,
     "metadata": {},
     "output_type": "execute_result"
    }
   ],
   "source": [
    "loans_df.loan_amount.describe().apply(lambda x: format(x, 'f'))"
   ]
  },
  {
   "cell_type": "code",
   "execution_count": 39,
   "id": "acc262b4",
   "metadata": {},
   "outputs": [
    {
     "data": {
      "text/plain": [
       "<AxesSubplot:>"
      ]
     },
     "execution_count": 39,
     "metadata": {},
     "output_type": "execute_result"
    },
    {
     "data": {
      "image/png": "[encoded data removed]",
      "text/plain": [
       "<Figure size 432x288 with 1 Axes>"
      ]
     },
     "metadata": {
      "needs_background": "light"
     },
     "output_type": "display_data"
    }
   ],
   "source": [
    "loans_df.loan_amount.hist(bins=25)"
   ]
  },
  {
   "cell_type": "markdown",
   "id": "5e721178",
   "metadata": {},
   "source": [
    "Looks like there are some outliers on the high and low end of loan amount.\n",
    "Let's see what the histogram looks like and how many rows are removed if\n",
    "removing the top .1% and bottom .5% of loan data. This corrsponds to loan amounts over 2.36M\n",
    "and under 35k"
   ]
  },
  {
   "cell_type": "code",
   "execution_count": 40,
   "id": "6426a688",
   "metadata": {},
   "outputs": [
    {
     "data": {
      "text/plain": [
       "(5112, 4)"
      ]
     },
     "execution_count": 40,
     "metadata": {},
     "output_type": "execute_result"
    }
   ],
   "source": [
    "q999 = loans_df.loan_amount.quantile(0.999)\n",
    "q005 = loans_df.loan_amount.quantile(0.005)\n",
    "\n",
    "loans_df = loans_df[loans_df.loan_amount <= q999]\n",
    "loans_df = loans_df[loans_df.loan_amount >= q005]\n",
    "loans_df.shape"
   ]
  },
  {
   "cell_type": "markdown",
   "id": "1a03eda9",
   "metadata": {},
   "source": [
    "We removed 5143 - 5112 = potential outlier loan_amounts from the dataset. Manual inspection of a few of\n",
    "the removed outliers can occur to deicde whether to include in future analyses.\n",
    "The distribution is more normal now, with an expected right skew"
   ]
  },
  {
   "cell_type": "code",
   "execution_count": 41,
   "id": "0651a72c",
   "metadata": {},
   "outputs": [
    {
     "data": {
      "text/plain": [
       "<AxesSubplot:>"
      ]
     },
     "execution_count": 41,
     "metadata": {},
     "output_type": "execute_result"
    },
    {
     "data": {
      "image/png": "[encoded data removed]",
      "text/plain": [
       "<Figure size 432x288 with 1 Axes>"
      ]
     },
     "metadata": {
      "needs_background": "light"
     },
     "output_type": "display_data"
    }
   ],
   "source": [
    "loans_df.loan_amount.hist(bins=50)"
   ]
  },
  {
   "cell_type": "markdown",
   "id": "cfe62323",
   "metadata": {},
   "source": [
    "### Created At & Funded At"
   ]
  },
  {
   "cell_type": "code",
   "execution_count": 42,
   "id": "4ec7a446",
   "metadata": {},
   "outputs": [
    {
     "name": "stderr",
     "output_type": "stream",
     "text": [
      "/var/folders/mt/ktdd7wvn6zjck2b0lwgqdpx80000gn/T/ipykernel_15983/3845017256.py:1: FutureWarning: Treating datetime data as categorical rather than numeric in `.describe` is deprecated and will be removed in a future version of pandas. Specify `datetime_is_numeric=True` to silence this warning and adopt the future behavior now.\n",
      "  loans_df.created_at.describe()\n"
     ]
    },
    {
     "data": {
      "text/plain": [
       "count                                 5112\n",
       "unique                                5112\n",
       "top       2016-12-20 07:16:04.778800+00:00\n",
       "freq                                     1\n",
       "first     2016-02-23 02:25:11.436000+00:00\n",
       "last      2017-12-13 20:18:56.307206+00:00\n",
       "Name: created_at, dtype: object"
      ]
     },
     "execution_count": 42,
     "metadata": {},
     "output_type": "execute_result"
    }
   ],
   "source": [
    "loans_df.created_at.describe()"
   ]
  },
  {
   "cell_type": "code",
   "execution_count": 43,
   "id": "f2605b4c",
   "metadata": {},
   "outputs": [
    {
     "data": {
      "text/plain": [
       "<AxesSubplot:>"
      ]
     },
     "execution_count": 43,
     "metadata": {},
     "output_type": "execute_result"
    },
    {
     "data": {
      "image/png": "[encoded data removed]",
      "text/plain": [
       "<Figure size 432x288 with 1 Axes>"
      ]
     },
     "metadata": {
      "needs_background": "light"
     },
     "output_type": "display_data"
    }
   ],
   "source": [
    "loans_df.created_at.hist(bins=22)  # one bin for every month in the dataset"
   ]
  },
  {
   "cell_type": "code",
   "execution_count": 44,
   "id": "90dea384",
   "metadata": {},
   "outputs": [
    {
     "data": {
      "text/plain": [
       "(5025, 4)"
      ]
     },
     "execution_count": 44,
     "metadata": {},
     "output_type": "execute_result"
    }
   ],
   "source": [
    "#remove loans created before Jun 2016\n",
    "loans_df = loans_df[loans_df.created_at >= '2016-06-01']\n",
    "loans_df.shape"
   ]
  },
  {
   "cell_type": "markdown",
   "id": "1885aca1",
   "metadata": {},
   "source": [
    "There are very few loans made before September 2016, so I will remove those. Looking at\n",
    "loan conversion stats on a monthly basis will be misleading for these months.\n",
    "\n",
    "Also of note, it appears summer is a more popular time for loan applications\n",
    "\n",
    "Overall 1055 of the 5112 loans were converted (20.6%)"
   ]
  },
  {
   "cell_type": "code",
   "execution_count": 46,
   "id": "4dd5d5ec",
   "metadata": {},
   "outputs": [],
   "source": [
    "# Let's create a time_to_conversion field so we can analyze change in this value monthly\n",
    "loans_df['time_to_conversion'] = (loans_df.funded_at - loans_df.created_at).dt.days"
   ]
  },
  {
   "cell_type": "markdown",
   "id": "dc6067c6",
   "metadata": {},
   "source": [
    "## Analysis: Group the data by month and look at Conversion Rate, Time to Conversion, and Number of Loan Applications By Month"
   ]
  },
  {
   "cell_type": "code",
   "execution_count": 47,
   "id": "3d1a23c3",
   "metadata": {},
   "outputs": [
    {
     "name": "stderr",
     "output_type": "stream",
     "text": [
      "/Users/paulsingman/dev/pandas-on-spark/venv/lib/python3.8/site-packages/pandas/core/arrays/datetimes.py:1143: UserWarning: Converting to PeriodArray/Index representation will drop timezone information.\n",
      "  warnings.warn(\n"
     ]
    }
   ],
   "source": [
    "# group by month using the loan created date and calculate some stats off the grouped data\n",
    "def group_functions(x):\n",
    "    d = {}\n",
    "    d['loan_amount_sum'] = x['loan_amount'].sum()\n",
    "    d['loan_app_count'] = x['loan_amount'].count()\n",
    "    d['loan_funded_count'] = x['funded_at'].count()\n",
    "    d['loan_app_amount_avg'] = x['loan_amount'].mean()\n",
    "    d['conversion_rate'] = max(x['funded_at'].count() /x['created_at'].count(), 0)\n",
    "    d['time_to_conversion_avg'] = x['time_to_conversion'].mean()\n",
    "    return pd.Series(d, index=['loan_amount_sum', 'loan_app_count', 'loan_funded_count', \n",
    "                               'loan_app_amount_avg', 'conversion_rate', 'time_to_conversion_avg'])\n",
    "\n",
    "monthly = loans_df.created_at.dt.to_period('M')\n",
    "monthly_loan_stats = loans_df.groupby(monthly).apply(group_functions)\n",
    "monthly_loan_stats.index.rename('created_at_month', inplace=True)"
   ]
  },
  {
   "cell_type": "code",
   "execution_count": 48,
   "id": "ce3df5f2",
   "metadata": {},
   "outputs": [
    {
     "data": {
      "text/plain": [
       "<AxesSubplot:title={'center':'Converison Rate of Loan Apps by Month'}, xlabel='created_at_month', ylabel='conversion_rate'>"
      ]
     },
     "execution_count": 48,
     "metadata": {},
     "output_type": "execute_result"
    },
    {
     "data": {
      "image/png": "[encoded data removed]",
      "text/plain": [
       "<Figure size 1440x504 with 1 Axes>"
      ]
     },
     "metadata": {
      "needs_background": "light"
     },
     "output_type": "display_data"
    }
   ],
   "source": [
    "fig  = plt.figure(figsize=(20,7))\n",
    "bp = sns.barplot(x = monthly_loan_stats.index, y =(monthly_loan_stats.conversion_rate*100))\n",
    "bp.set_title('Converison Rate of Loan Apps by Month')\n",
    "bp"
   ]
  },
  {
   "cell_type": "code",
   "execution_count": 49,
   "id": "1d59ed57",
   "metadata": {},
   "outputs": [
    {
     "data": {
      "text/plain": [
       "<AxesSubplot:title={'center':'Num of Loans Funded by Month'}, xlabel='created_at_month', ylabel='loan_funded_count'>"
      ]
     },
     "execution_count": 49,
     "metadata": {},
     "output_type": "execute_result"
    },
    {
     "data": {
      "image/png": "[encoded data removed]",
      "text/plain": [
       "<Figure size 1440x504 with 1 Axes>"
      ]
     },
     "metadata": {
      "needs_background": "light"
     },
     "output_type": "display_data"
    }
   ],
   "source": [
    "fig  = plt.figure(figsize=(20,7))\n",
    "bp = sns.barplot(x = monthly_loan_stats.index, y =monthly_loan_stats.loan_funded_count)\n",
    "bp.set_title('Num of Loans Funded by Month')\n",
    "bp"
   ]
  },
  {
   "cell_type": "code",
   "execution_count": 50,
   "id": "99a433b1",
   "metadata": {},
   "outputs": [
    {
     "data": {
      "text/plain": [
       "<AxesSubplot:title={'center':'Num of Loan Apps by Month'}, xlabel='created_at_month', ylabel='loan_app_count'>"
      ]
     },
     "execution_count": 50,
     "metadata": {},
     "output_type": "execute_result"
    },
    {
     "data": {
      "image/png": "[encoded data removed]",
      "text/plain": [
       "<Figure size 1440x504 with 1 Axes>"
      ]
     },
     "metadata": {
      "needs_background": "light"
     },
     "output_type": "display_data"
    }
   ],
   "source": [
    "fig  = plt.figure(figsize=(20,7))\n",
    "bp = sns.barplot(x = monthly_loan_stats.index, y =monthly_loan_stats.loan_app_count)\n",
    "bp.set_title('Num of Loan Apps by Month')\n",
    "bp"
   ]
  },
  {
   "cell_type": "code",
   "execution_count": 51,
   "id": "a871d665",
   "metadata": {},
   "outputs": [
    {
     "data": {
      "text/plain": [
       "<AxesSubplot:title={'center':'Avg Time to Conversion by Month'}, xlabel='created_at_month', ylabel='time_to_conversion_avg'>"
      ]
     },
     "execution_count": 51,
     "metadata": {},
     "output_type": "execute_result"
    },
    {
     "data": {
      "image/png": "[encoded data removed]",
      "text/plain": [
       "<Figure size 1440x504 with 1 Axes>"
      ]
     },
     "metadata": {
      "needs_background": "light"
     },
     "output_type": "display_data"
    }
   ],
   "source": [
    "fig  = plt.figure(figsize=(20,7))\n",
    "bp = sns.barplot(x = monthly_loan_stats.index, y =monthly_loan_stats.time_to_conversion_avg)\n",
    "bp.set_title('Avg Time to Conversion by Month')\n",
    "bp"
   ]
  },
  {
   "cell_type": "markdown",
   "id": "34468964",
   "metadata": {},
   "source": [
    "### Let's generate some averages and std dev's for 2017"
   ]
  },
  {
   "cell_type": "code",
   "execution_count": 52,
   "id": "fd72325d",
   "metadata": {},
   "outputs": [],
   "source": [
    "# Avg and standard deviation for conversion rate and time to conversion for 2017\n",
    "metrics_2017 = monthly_loan_stats[(monthly_loan_stats.index >= '2017-01') & (monthly_loan_stats.index <= '2017-10')]"
   ]
  },
  {
   "cell_type": "code",
   "execution_count": 54,
   "id": "c5480c2f",
   "metadata": {},
   "outputs": [
    {
     "data": {
      "text/plain": [
       "43.959"
      ]
     },
     "execution_count": 54,
     "metadata": {},
     "output_type": "execute_result"
    }
   ],
   "source": [
    "round(metrics_2017.time_to_conversion_avg.mean(), 3)"
   ]
  },
  {
   "cell_type": "code",
   "execution_count": 55,
   "id": "f3e05bd2",
   "metadata": {},
   "outputs": [
    {
     "data": {
      "text/plain": [
       "0.171"
      ]
     },
     "execution_count": 55,
     "metadata": {},
     "output_type": "execute_result"
    }
   ],
   "source": [
    "round(metrics_2017.conversion_rate.mean(), 3)"
   ]
  },
  {
   "cell_type": "code",
   "execution_count": 56,
   "id": "b9369c11",
   "metadata": {},
   "outputs": [
    {
     "data": {
      "text/plain": [
       "4.834"
      ]
     },
     "execution_count": 56,
     "metadata": {},
     "output_type": "execute_result"
    }
   ],
   "source": [
    "round(metrics_2017.time_to_conversion_avg.std(), 3)"
   ]
  },
  {
   "cell_type": "code",
   "execution_count": 57,
   "id": "57264459",
   "metadata": {},
   "outputs": [
    {
     "data": {
      "text/plain": [
       "0.051"
      ]
     },
     "execution_count": 57,
     "metadata": {},
     "output_type": "execute_result"
    }
   ],
   "source": [
    "round(metrics_2017.conversion_rate.std(), 3)"
   ]
  },
  {
   "cell_type": "code",
   "execution_count": null,
   "id": "c3ccadeb",
   "metadata": {},
   "outputs": [],
   "source": []
  }
 ],
 "metadata": {
  "kernelspec": {
   "display_name": "Python 3 (ipykernel)",
   "language": "python",
   "name": "python3"
  },
  "language_info": {
   "codemirror_mode": {
    "name": "ipython",
    "version": 3
   },
   "file_extension": ".py",
   "mimetype": "text/x-python",
   "name": "python",
   "nbconvert_exporter": "python",
   "pygments_lexer": "ipython3",
   "version": "3.8.2"
  }
 },
 "nbformat": 4,
 "nbformat_minor": 5
}
